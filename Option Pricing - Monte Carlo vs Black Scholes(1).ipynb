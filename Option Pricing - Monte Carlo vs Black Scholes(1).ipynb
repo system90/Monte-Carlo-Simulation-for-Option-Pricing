{
 "cells": [
  {
   "cell_type": "markdown",
   "metadata": {},
   "source": [
    "## Option Pricing using Monte Carlo Simulation"
   ]
  },
  {
   "cell_type": "markdown",
   "metadata": {},
   "source": [
    "Option pricing using Monte Carlo simulation and geometric brownian motion. Compared with Black Scholes method.\n",
    "\n",
    "Will calculate CALL and PUT Payoffs."
   ]
  },
  {
   "cell_type": "code",
   "execution_count": 1,
   "metadata": {},
   "outputs": [],
   "source": [
    "# Libraries\n",
    "\n",
    "import numpy as np\n",
    "from scipy.stats import norm"
   ]
  },
  {
   "cell_type": "code",
   "execution_count": 2,
   "metadata": {},
   "outputs": [],
   "source": [
    "# Variables:\n",
    "\n",
    "S = 385                 # Spot price\n",
    "K = 350                 # Strike price\n",
    "T = 0.083               # Time to expiration (Years)\n",
    "r = 0.04                # Discount rate (%)     \n",
    "sigma = 0.15            # Volatility of stock(%)\n",
    "\n",
    "\n",
    "# Variables for Monte Carlo:\n",
    "\n",
    "steps = 30              # Number of days option runs for\n",
    "simulations = 5         # Number of simulations "
   ]
  },
  {
   "cell_type": "code",
   "execution_count": 3,
   "metadata": {},
   "outputs": [],
   "source": [
    "# Brownian motion for daily prices:\n",
    "dt = T / steps"
   ]
  },
  {
   "cell_type": "code",
   "execution_count": 4,
   "metadata": {},
   "outputs": [],
   "source": [
    "# Drift:\n",
    "drift = (r-(sigma**2)/2) * dt"
   ]
  },
  {
   "cell_type": "code",
   "execution_count": 5,
   "metadata": {},
   "outputs": [],
   "source": [
    "# Time:\n",
    "a = sigma * np.sqrt(dt)"
   ]
  },
  {
   "cell_type": "code",
   "execution_count": 6,
   "metadata": {},
   "outputs": [
    {
     "name": "stdout",
     "output_type": "stream",
     "text": [
      "[[-2.10418211e-01 -6.21302362e-01 -2.13191212e-01 -4.62560375e-01\n",
      "  -2.20605956e+00  5.26344419e-01  4.00916155e-01  1.73949968e+00\n",
      "  -4.30734248e-01 -1.19431322e-02 -1.09031959e+00 -7.74083258e-01\n",
      "   1.66610691e+00 -5.94791235e-01  1.43373860e+00 -8.84225149e-01\n",
      "   1.07093844e+00 -8.35916748e-01 -6.82328287e-01 -7.88431315e-01\n",
      "   3.64156795e-01  1.06885458e+00 -6.40627039e-01 -7.12757190e-03\n",
      "  -4.29684832e-01  1.59470576e+00  1.12779345e+00  1.26619975e+00\n",
      "  -9.02315543e-01 -1.01273385e-01]\n",
      " [-9.03642106e-01  2.94289291e-01 -1.23687273e+00 -4.78751698e-01\n",
      "  -9.95767457e-01  7.99347684e-01 -8.73872577e-01  2.30739990e+00\n",
      "   3.50986715e-01  1.99738211e+00  1.03170095e+00 -2.06371161e+00\n",
      "  -1.16860169e+00  6.28378220e-01 -4.71034116e-01  5.03807312e-01\n",
      "  -1.55030406e+00 -7.68035681e-01 -1.48389323e+00  1.49977331e+00\n",
      "   7.78681274e-02 -2.80008437e+00  6.84572603e-01  1.13180903e+00\n",
      "  -8.84108833e-01  1.70260229e+00 -9.05678533e-02  8.63074644e-01\n",
      "   8.12784695e-01  4.96791480e-01]\n",
      " [ 2.14466026e-03  7.76669682e-01  5.72531790e-01 -2.36694566e+00\n",
      "   4.36263844e-01 -3.84039648e-01 -1.55978552e+00 -3.96594769e-01\n",
      "  -5.96404615e-01  5.10259832e-01  1.41051067e+00 -6.91029369e-01\n",
      "  -5.30113415e-01  3.38198852e-01 -2.89876757e-01  4.32065161e-01\n",
      "   3.76048856e-01 -8.50008286e-02  8.18555117e-01 -1.95620564e+00\n",
      "   1.36497741e-01 -1.01786192e+00  5.88103076e-01 -1.87822123e-01\n",
      "  -2.11848046e-01  2.25861410e+00  8.00101789e-01 -7.31175411e-01\n",
      "   1.12066466e+00 -2.12881141e-01]\n",
      " [ 1.85937888e+00  1.02058479e-01 -1.19727655e-01 -2.64777271e-01\n",
      "  -6.83965248e-01 -8.98264487e-01 -1.15072173e+00  8.56844059e-01\n",
      "  -1.56905967e-01 -5.87553782e-01 -5.00809931e-01  1.36340323e-01\n",
      "  -9.07729815e-01  7.02219698e-01  3.78429880e-01 -1.18235679e+00\n",
      "  -1.05463078e+00  5.87499111e-01 -1.47663157e-01  1.17491309e-01\n",
      "   3.82170039e-01 -1.43992499e-01  2.31806861e-01  7.50669467e-01\n",
      "  -9.70630003e-01  1.40376949e+00 -1.26066019e-01 -2.80499787e-01\n",
      "   9.67035095e-01  1.08094786e+00]\n",
      " [-8.94189595e-01  5.83848882e-02 -9.50600070e-01  8.46602107e-01\n",
      "  -1.10922298e+00  1.65858559e-01 -9.56917817e-01  8.00155477e-01\n",
      "  -1.48333976e+00  1.53742427e-01 -4.89460133e-01  9.25551109e-01\n",
      "   2.18539670e+00  5.85284851e-01 -1.61400784e+00 -1.94867811e+00\n",
      "   3.87290067e-02 -9.60519666e-01  3.26106870e-01  1.22909087e-01\n",
      "  -3.70119056e-01  1.65329832e+00 -1.19295701e-01  9.17243545e-01\n",
      "   3.54668818e-02 -1.89567485e+00  1.98242423e-01 -9.20639375e-01\n",
      "   2.43891522e-01 -6.93178530e-01]]\n"
     ]
    }
   ],
   "source": [
    "# Random variable: Creating random variables for each day of stock.\n",
    "\n",
    "# Using standard normal distribution with mean=0, variance=1, (Nsimulation for Nsteps) \n",
    "x = np.random.normal(0,1,(simulations, steps))      \n",
    "print(x)"
   ]
  },
  {
   "cell_type": "markdown",
   "metadata": {},
   "source": [
    "Above we can see that for each of the 5 arrays (simulations), there are 30 elements (steps). Each element represents one day."
   ]
  },
  {
   "cell_type": "code",
   "execution_count": 7,
   "metadata": {},
   "outputs": [
    {
     "data": {
      "text/plain": [
       "array([[385.,   0.,   0.,   0.,   0.,   0.,   0.,   0.,   0.,   0.,   0.,\n",
       "          0.,   0.,   0.,   0.,   0.,   0.,   0.,   0.,   0.,   0.,   0.,\n",
       "          0.,   0.,   0.,   0.,   0.,   0.,   0.,   0.],\n",
       "       [385.,   0.,   0.,   0.,   0.,   0.,   0.,   0.,   0.,   0.,   0.,\n",
       "          0.,   0.,   0.,   0.,   0.,   0.,   0.,   0.,   0.,   0.,   0.,\n",
       "          0.,   0.,   0.,   0.,   0.,   0.,   0.,   0.],\n",
       "       [385.,   0.,   0.,   0.,   0.,   0.,   0.,   0.,   0.,   0.,   0.,\n",
       "          0.,   0.,   0.,   0.,   0.,   0.,   0.,   0.,   0.,   0.,   0.,\n",
       "          0.,   0.,   0.,   0.,   0.,   0.,   0.,   0.],\n",
       "       [385.,   0.,   0.,   0.,   0.,   0.,   0.,   0.,   0.,   0.,   0.,\n",
       "          0.,   0.,   0.,   0.,   0.,   0.,   0.,   0.,   0.,   0.,   0.,\n",
       "          0.,   0.,   0.,   0.,   0.,   0.,   0.,   0.],\n",
       "       [385.,   0.,   0.,   0.,   0.,   0.,   0.,   0.,   0.,   0.,   0.,\n",
       "          0.,   0.,   0.,   0.,   0.,   0.,   0.,   0.,   0.,   0.,   0.,\n",
       "          0.,   0.,   0.,   0.,   0.,   0.,   0.,   0.]])"
      ]
     },
     "execution_count": 7,
     "metadata": {},
     "output_type": "execute_result"
    }
   ],
   "source": [
    "# Matrix of stock price values\n",
    "\n",
    "Smat = np.zeros((simulations, steps))       # Matrix initially loaded with zero values\n",
    "Smat[:,0]+= S                               # put 385 (Spot price) on the first element of each of the 5 arrays\n",
    "Smat"
   ]
  },
  {
   "cell_type": "markdown",
   "metadata": {},
   "source": [
    "Above we can see that the each of the 5 arrays contain a value of 385 (Spot price) at the 1st element, with 0's afterwards. These 0's will be exchanged for a value based on the random variables generated prevoiusly."
   ]
  },
  {
   "cell_type": "code",
   "execution_count": 9,
   "metadata": {},
   "outputs": [
    {
     "data": {
      "text/plain": [
       "array([[385.        , 383.14782585, 382.53431987, 381.17110784,\n",
       "        374.62382965, 376.21272097, 377.43465238, 382.68087224,\n",
       "        381.4129002 , 381.40729803, 378.170402  , 375.89769581,\n",
       "        380.90192382, 379.14876285, 383.49254858, 380.85674746,\n",
       "        384.11900633, 381.62432667, 379.60557341, 377.28152992,\n",
       "        378.3971717 , 381.63208829, 379.73821387, 379.74706418,\n",
       "        378.4919468 , 383.31471193, 386.77148316, 390.68582682,\n",
       "        387.94520954, 387.66618651],\n",
       "       [385.        , 385.92566735, 382.20822805, 380.7975291 ,\n",
       "        377.84757862, 380.2683439 , 377.68555146, 384.65491006,\n",
       "        385.75226965, 391.91069528, 395.14529018, 388.79439341,\n",
       "        385.25678349, 387.20235761, 385.79671646, 387.36411013,\n",
       "        382.68528941, 380.40360028, 376.005818  , 380.51179296,\n",
       "        380.77592584, 372.48558148, 374.53267845, 377.9222257 ,\n",
       "        375.32505467, 380.43118625, 380.18967901, 382.81788086,\n",
       "        385.31133659, 386.8553437 ],\n",
       "       [385.        , 387.39726706, 389.18213122, 382.01202727,\n",
       "        383.35969445, 382.23026631, 377.58520805, 376.43550143,\n",
       "        374.69812818, 376.2395848 , 380.48030582, 378.44162326,\n",
       "        376.89206493, 377.92914545, 377.09576915, 378.41355676,\n",
       "        379.56815799, 379.3438602 , 381.83207175, 376.01395185,\n",
       "        376.44906003, 373.46768668, 375.2344695 , 374.70862828,\n",
       "        374.11259994, 380.86939756, 383.31180342, 381.13720603,\n",
       "        384.55271042, 383.93789417],\n",
       "       [385.        , 385.34078699, 385.00757529, 384.23467334,\n",
       "        382.19717536, 379.52823542, 376.12799437, 378.70950109,\n",
       "        378.27104834, 376.55149781, 375.09639123, 375.52997124,\n",
       "        372.87974162, 374.98121101, 376.13240555, 372.66955958,\n",
       "        369.61087864, 371.35764626, 370.95475588, 371.32832185,\n",
       "        372.47929345, 372.085962  , 372.79675381, 375.04109216,\n",
       "        372.2095489 , 376.38482672, 376.04055359, 375.23910216,\n",
       "        378.14312005, 381.41225523],\n",
       "       [385.        , 385.20802959, 382.36014735, 384.95331924,\n",
       "        381.6294067 , 382.15953098, 379.31527872, 381.74788016,\n",
       "        377.33620463, 377.82424549, 376.39792495, 379.18678176,\n",
       "        385.8122848 , 387.62884766, 382.75440305, 376.94461577,\n",
       "        377.08980825, 374.27265152, 375.26672059, 375.66068636,\n",
       "        374.59508064, 379.5436094 , 379.21670302, 382.00140578,\n",
       "        382.13871054, 376.49568211, 377.11501733, 374.41546364,\n",
       "        375.16647452, 373.14993703]])"
      ]
     },
     "execution_count": 9,
     "metadata": {},
     "output_type": "execute_result"
    }
   ],
   "source": [
    "# Brownian Motion: (from the 2nd element onwards, we have the Brownian motion values)\n",
    "# Each simulation represents a different Brownian Motion path.\n",
    "\n",
    "for i in range(1, steps):\n",
    "    Smat[:,i] += Smat[:,i-1] * np.exp(drift + a*x[:,i])\n",
    "Smat"
   ]
  },
  {
   "cell_type": "markdown",
   "metadata": {},
   "source": [
    "Above we can see that we have 5 different Brownian Motion paths (simulations) for the stock price."
   ]
  },
  {
   "cell_type": "markdown",
   "metadata": {},
   "source": [
    "### Calulate Payoffs for CALL and PUT:"
   ]
  },
  {
   "cell_type": "code",
   "execution_count": 10,
   "metadata": {},
   "outputs": [
    {
     "data": {
      "text/plain": [
       "array([37.66618651, 36.8553437 , 33.93789417, 31.41225523, 23.14993703])"
      ]
     },
     "execution_count": 10,
     "metadata": {},
     "output_type": "execute_result"
    }
   ],
   "source": [
    "# CALL payoff values:\n",
    "\n",
    "c = (Smat[:,-1]) - K        # Call = 'last value of Smat' subtract 'Strike Price'\n",
    "\n",
    "for i in range(len(c)):\n",
    "    if c[i] < 0:\n",
    "        c[i] = 0            # where values are less than 1, make these values equal zero\n",
    "    else:\n",
    "        c[i] = c[i]         # otherwise take value as it is                \n",
    "c"
   ]
  },
  {
   "cell_type": "code",
   "execution_count": 11,
   "metadata": {},
   "outputs": [
    {
     "data": {
      "text/plain": [
       "array([0., 0., 0., 0., 0.])"
      ]
     },
     "execution_count": 11,
     "metadata": {},
     "output_type": "execute_result"
    }
   ],
   "source": [
    "# PUT payoff values:\n",
    "\n",
    "p = K - (Smat[:,-1])        # Put = 'Strike Price' subtract the 'Spot price' \n",
    "for i in range(len(p)):\n",
    "    if p[i] < 0:\n",
    "        p[i] = 0            # where values are less than 1, make all values equal zero\n",
    "    else:\n",
    "        p[i] = p[i]         # otherwise take value as it is                \n",
    "p"
   ]
  },
  {
   "cell_type": "code",
   "execution_count": 12,
   "metadata": {},
   "outputs": [
    {
     "name": "stdout",
     "output_type": "stream",
     "text": [
      "Call payoff = 32.60432332862446\n",
      "Put payoff = 0.0\n"
     ]
    }
   ],
   "source": [
    "# Take the average of payoff simulations:\n",
    "\n",
    "call_payoff = np.mean(c)\n",
    "print('Call payoff =', call_payoff)\n",
    "\n",
    "put_payoff = np.mean(p)\n",
    "print('Put payoff =', put_payoff)"
   ]
  },
  {
   "cell_type": "markdown",
   "metadata": {},
   "source": [
    "### Discount price back to present day:"
   ]
  },
  {
   "cell_type": "code",
   "execution_count": 13,
   "metadata": {},
   "outputs": [],
   "source": [
    "call = call_payoff*np.exp(-r*T)\n",
    "put = put_payoff*np.exp(-r*T)"
   ]
  },
  {
   "cell_type": "code",
   "execution_count": 14,
   "metadata": {},
   "outputs": [
    {
     "name": "stdout",
     "output_type": "stream",
     "text": [
      "Call payoff (Discounted to present day) = 32.496256465429326\n",
      "Put payoff (Discounted to present day) = 0.0\n"
     ]
    }
   ],
   "source": [
    "print('Call payoff (Discounted to present day) =', call)\n",
    "print('Put payoff (Discounted to present day) =', put)"
   ]
  },
  {
   "cell_type": "markdown",
   "metadata": {},
   "source": [
    "We can see that the call payoff has value of 32.49, whereas the put payoff has a value of 0.0. This is because for these given spot and strike prices they only work in favor of a call option. Hence a Put option at these prices would not be executed. "
   ]
  },
  {
   "cell_type": "markdown",
   "metadata": {},
   "source": [
    "## Black Scholes Method:"
   ]
  },
  {
   "cell_type": "code",
   "execution_count": 15,
   "metadata": {},
   "outputs": [],
   "source": [
    "# Black Scholes d1 & d2:\n",
    "\n",
    "d1 = (np.log(S/K) + (r + sigma**2/2)*T) / sigma*np.sqrt(T)\n",
    "d2 = (np.log(S/K) + (r - sigma**2/2)*T) / sigma*np.sqrt(T)"
   ]
  },
  {
   "cell_type": "code",
   "execution_count": 16,
   "metadata": {},
   "outputs": [
    {
     "data": {
      "text/plain": [
       "21.31220748950824"
      ]
     },
     "execution_count": 16,
     "metadata": {},
     "output_type": "execute_result"
    }
   ],
   "source": [
    "# Black Scholes Call option price:\n",
    "\n",
    "call_bs = (norm.cdf(d1,0,1) * S) - (norm.cdf(d2,0,1) * K*np.exp(-r*T))\n",
    "call_bs"
   ]
  },
  {
   "cell_type": "code",
   "execution_count": 17,
   "metadata": {},
   "outputs": [
    {
     "name": "stdout",
     "output_type": "stream",
     "text": [
      "Call payoff (Discounted to present day) = 21.24156828660434\n"
     ]
    }
   ],
   "source": [
    "call_discounted = call_bs*np.exp(-r*T)\n",
    "print('Call payoff (Discounted to present day) =', call_discounted)"
   ]
  },
  {
   "cell_type": "markdown",
   "metadata": {},
   "source": [
    "Using the same variables, the values have have been entered into the Black Scholes model. The call payoff has a value of 21.24."
   ]
  }
 ],
 "metadata": {
  "kernelspec": {
   "display_name": "Python 3",
   "language": "python",
   "name": "python3"
  },
  "language_info": {
   "codemirror_mode": {
    "name": "ipython",
    "version": 3
   },
   "file_extension": ".py",
   "mimetype": "text/x-python",
   "name": "python",
   "nbconvert_exporter": "python",
   "pygments_lexer": "ipython3",
   "version": "3.8.3"
  }
 },
 "nbformat": 4,
 "nbformat_minor": 4
}
