{
 "cells": [
  {
   "cell_type": "markdown",
   "metadata": {},
   "source": [
    "## Option Pricing using Monte Carlo Simulation"
   ]
  },
  {
   "cell_type": "markdown",
   "metadata": {},
   "source": [
    "Option pricing using Monte Carlo simulation and geometric brownian motion. \n",
    "\n",
    "Will calculate CALL and PUT Payoffs."
   ]
  },
  {
   "cell_type": "code",
   "execution_count": 1,
   "metadata": {},
   "outputs": [],
   "source": [
    "# Libraries\n",
    "\n",
    "import numpy as np"
   ]
  },
  {
   "cell_type": "code",
   "execution_count": 2,
   "metadata": {},
   "outputs": [],
   "source": [
    "S = 120                 # Spot price\n",
    "K = 100                 # Strike price\n",
    "T = 0.083               # Time to expiration (Years)\n",
    "r = 0.07                # Discount rate (%)     \n",
    "sigma = 0.2             # Volatility of stock(%)\n",
    "\n",
    "Nsteps = 30             # Number of days option runs for\n",
    "Nsimulations = 5        # Number of simulations "
   ]
  },
  {
   "cell_type": "code",
   "execution_count": 3,
   "metadata": {},
   "outputs": [],
   "source": [
    "# Brownian motion for daily prices:\n",
    "dt = T / Nsteps"
   ]
  },
  {
   "cell_type": "code",
   "execution_count": 4,
   "metadata": {},
   "outputs": [],
   "source": [
    "# Drift:\n",
    "drift = (r-(sigma**2)/2) * dt"
   ]
  },
  {
   "cell_type": "code",
   "execution_count": 17,
   "metadata": {},
   "outputs": [],
   "source": [
    "# Time:\n",
    "a = sigma * np.sqrt(dt)"
   ]
  },
  {
   "cell_type": "code",
   "execution_count": 18,
   "metadata": {},
   "outputs": [
    {
     "name": "stdout",
     "output_type": "stream",
     "text": [
      "[[-0.76620608  0.73013866 -0.29244232  0.45414429 -1.71942056 -0.47634849\n",
      "   0.93882865  0.14413749  2.1681109  -1.12123506 -1.03963915  0.16523069\n",
      "   1.6714749  -1.33839279  0.16029991 -1.06205689 -0.00295069 -1.09751654\n",
      "  -0.21409834 -1.38540445 -1.01289809  1.76422255 -1.51121306 -0.92583176\n",
      "   2.07637023  0.84017476  1.49052017  0.62679259 -0.41372466 -0.48210436]\n",
      " [-0.84850185 -0.22362511  1.18546634  2.07593008  1.92474663  0.48549559\n",
      "   1.0105413  -0.58220529  0.14277337  1.11763883  2.03961298  0.55525826\n",
      "  -0.1088304  -0.72943178  1.52374533  1.78526791  0.12083923  0.3193558\n",
      "   1.46331531  1.01399219  0.526434   -0.55438656 -0.08961986 -1.47341491\n",
      "   0.05240309 -0.35188193  0.39771989  1.59984473 -1.18977888 -0.1565989 ]\n",
      " [ 2.5665023   1.06732201  0.28008195 -0.19981052 -0.09940198 -0.85511381\n",
      "  -0.06783743 -0.10220807 -1.05687085  0.70206692  0.6384195   0.9958273\n",
      "  -0.435677    0.78658558  1.25152096  0.64183178 -0.46011892 -0.05094941\n",
      "   0.20096224  0.77390271  0.94953508  0.25490046 -1.39715198  0.06102312\n",
      "   0.2686366   1.23117899  0.76346403 -0.92716318 -2.20402578 -0.11768455]\n",
      " [-0.0166535  -1.9514189   0.70323592  0.40231426  1.73548203  1.10746432\n",
      "  -2.21816406 -0.83511171 -0.93211976 -0.11785496 -0.37649362  0.0039655\n",
      "  -1.33575831  0.06343677  0.32661774 -1.99225453 -0.17325716  0.89020603\n",
      "   1.23176281  0.50364193 -0.51459377  0.26950531  0.45450524  0.01444323\n",
      "   1.60396392 -0.01981617  1.35163379 -0.47371938 -0.5095343   0.4064952 ]\n",
      " [-0.67422348 -0.50843599  1.15943285  1.13177693 -0.26807325  1.48738692\n",
      "   1.64431096 -0.85041694 -1.70603967 -0.03739238  0.11191328 -0.70890225\n",
      "  -0.4450355  -0.83701672 -0.68085006 -1.6010843   0.1831812  -1.52583818\n",
      "  -0.89583737  0.30803249 -0.49426622  0.61897521 -1.40319711  0.68109267\n",
      "  -0.56422608  0.87589276 -1.55659327  0.28766723 -0.18410633  0.57012447]]\n"
     ]
    }
   ],
   "source": [
    "# Random variable: Creating random variables for each day of stock.\n",
    "\n",
    "# Using standard normal distribution with mean=0, variance=1, (Nsimulation for Nsteps) \n",
    "x = np.random.normal(0,1,(Nsimulations, Nsteps))      \n",
    "print(x)"
   ]
  },
  {
   "cell_type": "markdown",
   "metadata": {},
   "source": [
    "Above we can see that for each of the 5 arrays (simulations), there are 30 elements (steps). Each element represents one day."
   ]
  },
  {
   "cell_type": "code",
   "execution_count": 7,
   "metadata": {},
   "outputs": [
    {
     "data": {
      "text/plain": [
       "array([[120.,   0.,   0.,   0.,   0.,   0.,   0.,   0.,   0.,   0.,   0.,\n",
       "          0.,   0.,   0.,   0.,   0.,   0.,   0.,   0.,   0.,   0.,   0.,\n",
       "          0.,   0.,   0.,   0.,   0.,   0.,   0.,   0.],\n",
       "       [120.,   0.,   0.,   0.,   0.,   0.,   0.,   0.,   0.,   0.,   0.,\n",
       "          0.,   0.,   0.,   0.,   0.,   0.,   0.,   0.,   0.,   0.,   0.,\n",
       "          0.,   0.,   0.,   0.,   0.,   0.,   0.,   0.],\n",
       "       [120.,   0.,   0.,   0.,   0.,   0.,   0.,   0.,   0.,   0.,   0.,\n",
       "          0.,   0.,   0.,   0.,   0.,   0.,   0.,   0.,   0.,   0.,   0.,\n",
       "          0.,   0.,   0.,   0.,   0.,   0.,   0.,   0.],\n",
       "       [120.,   0.,   0.,   0.,   0.,   0.,   0.,   0.,   0.,   0.,   0.,\n",
       "          0.,   0.,   0.,   0.,   0.,   0.,   0.,   0.,   0.,   0.,   0.,\n",
       "          0.,   0.,   0.,   0.,   0.,   0.,   0.,   0.],\n",
       "       [120.,   0.,   0.,   0.,   0.,   0.,   0.,   0.,   0.,   0.,   0.,\n",
       "          0.,   0.,   0.,   0.,   0.,   0.,   0.,   0.,   0.,   0.,   0.,\n",
       "          0.,   0.,   0.,   0.,   0.,   0.,   0.,   0.]])"
      ]
     },
     "execution_count": 7,
     "metadata": {},
     "output_type": "execute_result"
    }
   ],
   "source": [
    "# Matrix of stock price values\n",
    "\n",
    "Smat = np.zeros((Nsimulations, Nsteps))     # Matrix initially loaded with zero values\n",
    "Smat[:,0]+= S                               # put 120 (Spot price) on the first element of each of the 5 arrays\n",
    "Smat"
   ]
  },
  {
   "cell_type": "markdown",
   "metadata": {},
   "source": [
    "Above we can see that the each of the 5 arrays contain a value of 120 (Spot price) at the 1st element, with 0's afterwards. These 0's will be exchanged for a value based on the random variables generated prevoiusly."
   ]
  },
  {
   "cell_type": "code",
   "execution_count": 8,
   "metadata": {},
   "outputs": [
    {
     "data": {
      "text/plain": [
       "array([[120.        , 118.0521964 , 117.06167364, 114.08995088,\n",
       "        114.97111187, 113.46191563, 115.12925944, 114.83310334,\n",
       "        116.35980948, 118.04948379, 118.69566182, 119.62664285,\n",
       "        120.75750939, 119.61398662, 120.86568137, 122.1121771 ,\n",
       "        123.63489028, 124.53763013, 124.19505747, 123.16055699,\n",
       "        123.07020073, 124.40227112, 123.49004274, 122.49752075,\n",
       "        123.85470825, 126.62440178, 128.34427361, 130.61015903,\n",
       "        129.47646403, 129.96907949],\n",
       "       [120.        , 120.07521774, 119.93567375, 118.29690895,\n",
       "        119.19376327, 119.80798554, 121.08854823, 118.4436794 ,\n",
       "        116.6750918 , 118.48231515, 118.02579132, 115.74427433,\n",
       "        117.52826697, 117.26645597, 116.00487051, 116.67045571,\n",
       "        117.13711629, 117.55266061, 118.04972297, 117.17562517,\n",
       "        117.5475024 , 119.1204332 , 116.29287415, 114.32194143,\n",
       "        114.29900451, 112.74431127, 112.38794979, 111.66796154,\n",
       "        110.98668815, 110.85098335],\n",
       "       [120.        , 119.72177893, 121.98568146, 122.27436445,\n",
       "        124.09937878, 123.08310373, 120.44397104, 119.87045286,\n",
       "        118.91039971, 118.58347595, 118.76993025, 118.5785391 ,\n",
       "        118.7124215 , 117.80940892, 117.88150856, 120.19798919,\n",
       "        119.29903181, 118.74478983, 119.60246283, 118.92239924,\n",
       "        118.01765784, 118.44554265, 117.27915032, 115.97227106,\n",
       "        116.01014522, 113.93593879, 113.92794181, 113.28089998,\n",
       "        112.59864778, 113.01844907],\n",
       "       [120.        , 121.23981141, 120.85241364, 120.21310646,\n",
       "        121.98785867, 123.61854161, 124.93965265, 126.16047687,\n",
       "        126.45622997, 127.88582516, 127.28580493, 127.61202345,\n",
       "        126.92061674, 129.29671476, 129.54733996, 127.01105404,\n",
       "        130.05322471, 130.90170901, 133.12813587, 134.35737152,\n",
       "        131.88678533, 129.30701128, 131.36742897, 131.57975573,\n",
       "        132.58481152, 135.43463455, 139.60627068, 141.25976541,\n",
       "        140.70362062, 140.86868074],\n",
       "       [120.        , 119.41884168, 119.89755811, 122.45327031,\n",
       "        123.06434313, 121.15849898, 120.0812609 , 121.41289105,\n",
       "        120.42460553, 122.40577833, 120.10635611, 118.69869811,\n",
       "        119.147866  , 119.34142959, 119.00652093, 118.85493873,\n",
       "        120.03460564, 120.6588463 , 118.23523947, 116.96316056,\n",
       "        119.14704888, 119.43245716, 120.5784489 , 122.35705281,\n",
       "        120.16683562, 120.34833946, 120.6556107 , 119.39346117,\n",
       "        117.84503029, 118.30096129]])"
      ]
     },
     "execution_count": 8,
     "metadata": {},
     "output_type": "execute_result"
    }
   ],
   "source": [
    "# Brownian Motion: (from the 2nd element onwards, we have the Brownian motion values)\n",
    "# Each simulation represents a different Brownian Motion path.\n",
    "\n",
    "for i in range(1, Nsteps):\n",
    "    Smat[:,i] += Smat[:,i-1] * np.exp(drift + a*x[:,i])\n",
    "Smat"
   ]
  },
  {
   "cell_type": "markdown",
   "metadata": {},
   "source": [
    "Above we can see that we have 5 different Brownian Motion paths (simulations) for the stock price."
   ]
  },
  {
   "cell_type": "markdown",
   "metadata": {},
   "source": [
    "### Calulate Payoffs for CALL and PUT:"
   ]
  },
  {
   "cell_type": "code",
   "execution_count": 10,
   "metadata": {},
   "outputs": [
    {
     "data": {
      "text/plain": [
       "array([29.96907949, 10.85098335, 13.01844907, 40.86868074, 18.30096129])"
      ]
     },
     "execution_count": 10,
     "metadata": {},
     "output_type": "execute_result"
    }
   ],
   "source": [
    "# CALL payoff values:\n",
    "\n",
    "c = (Smat[:,-1]) - K        # Call = 'last value of Smat' subtract 'Strike Price'\n",
    "\n",
    "for i in range(len(c)):\n",
    "    if c[i] < 0:\n",
    "        c[i] = 0            # where values are less than 1, make these values equal zero\n",
    "    else:\n",
    "        c[i] = c[i]         # otherwise take value as it is                \n",
    "c"
   ]
  },
  {
   "cell_type": "code",
   "execution_count": 11,
   "metadata": {},
   "outputs": [
    {
     "data": {
      "text/plain": [
       "array([0., 0., 0., 0., 0.])"
      ]
     },
     "execution_count": 11,
     "metadata": {},
     "output_type": "execute_result"
    }
   ],
   "source": [
    "# PUT payoff values:\n",
    "\n",
    "p = K - (Smat[:,-1])        # Put = 'Strike Price' subtract the 'Spot price' \n",
    "for i in range(len(p)):\n",
    "    if p[i] < 0:\n",
    "        p[i] = 0            # where values are less than 1, make all values equal zero\n",
    "    else:\n",
    "        p[i] = p[i]         # otherwise take value as it is                \n",
    "p"
   ]
  },
  {
   "cell_type": "code",
   "execution_count": 12,
   "metadata": {},
   "outputs": [
    {
     "name": "stdout",
     "output_type": "stream",
     "text": [
      "Call payoff = 22.601630789066302\n",
      "Put payoff = 0.0\n"
     ]
    }
   ],
   "source": [
    "# Take the average of payoff simulations:\n",
    "\n",
    "call_payoff = np.mean(c)\n",
    "print('Call payoff =', call_payoff)\n",
    "\n",
    "put_payoff = np.mean(p)\n",
    "print('Put payoff =', put_payoff)"
   ]
  },
  {
   "cell_type": "markdown",
   "metadata": {},
   "source": [
    "### Discount price back to present day:"
   ]
  },
  {
   "cell_type": "code",
   "execution_count": 15,
   "metadata": {},
   "outputs": [],
   "source": [
    "call = call_payoff*np.exp(-r*T)\n",
    "put = put_payoff*np.exp(-r*T)"
   ]
  },
  {
   "cell_type": "code",
   "execution_count": 16,
   "metadata": {},
   "outputs": [
    {
     "name": "stdout",
     "output_type": "stream",
     "text": [
      "Call payoff (Discounted to present day) = 22.470696047925152\n",
      "Put payoff (Discounted to present day) = 0.0\n"
     ]
    }
   ],
   "source": [
    "print('Call payoff (Discounted to present day) =', call)\n",
    "print('Put payoff (Discounted to present day) =', put)"
   ]
  },
  {
   "cell_type": "markdown",
   "metadata": {},
   "source": [
    "We can see that the call payoff has value of 22.47, whereas the put payoff has a value of 0.0. This is because for these given spot and strike prices they only work in favor of a call option. Hence a Put option at these prices would not be executed. "
   ]
  }
 ],
 "metadata": {
  "kernelspec": {
   "display_name": "Python 3",
   "language": "python",
   "name": "python3"
  },
  "language_info": {
   "codemirror_mode": {
    "name": "ipython",
    "version": 3
   },
   "file_extension": ".py",
   "mimetype": "text/x-python",
   "name": "python",
   "nbconvert_exporter": "python",
   "pygments_lexer": "ipython3",
   "version": "3.8.3"
  }
 },
 "nbformat": 4,
 "nbformat_minor": 4
}
