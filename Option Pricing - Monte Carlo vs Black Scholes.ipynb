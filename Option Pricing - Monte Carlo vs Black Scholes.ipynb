{
 "cells": [
  {
   "cell_type": "markdown",
   "metadata": {},
   "source": [
    "## Option Pricing using Monte Carlo Simulation"
   ]
  },
  {
   "cell_type": "markdown",
   "metadata": {},
   "source": [
    "Option pricing using Monte Carlo simulation and geometric brownian motion. Compared with Black Scholes method.\n",
    "\n",
    "Will calculate CALL and PUT Payoffs."
   ]
  },
  {
   "cell_type": "code",
   "execution_count": 1,
   "metadata": {},
   "outputs": [],
   "source": [
    "# Libraries\n",
    "\n",
    "import numpy as np\n",
    "from scipy.stats import norm"
   ]
  },
  {
   "cell_type": "code",
   "execution_count": 3,
   "metadata": {},
   "outputs": [],
   "source": [
    "# Variables:\n",
    "\n",
    "S = 385                 # Spot price\n",
    "K = 350                 # Strike price\n",
    "T = 0.083               # Time to expiration (Years)\n",
    "r = 0.04                # Discount rate (%)     \n",
    "sigma = 0.15            # Volatility of stock(%)\n",
    "\n",
    "\n",
    "# Variables for Monte Carlo:\n",
    "\n",
    "steps = 30              # Number of days option runs for\n",
    "simulations = 5         # Number of simulations "
   ]
  },
  {
   "cell_type": "code",
   "execution_count": 18,
   "metadata": {},
   "outputs": [],
   "source": [
    "# Brownian motion for daily prices:\n",
    "dt = T / steps"
   ]
  },
  {
   "cell_type": "code",
   "execution_count": 19,
   "metadata": {},
   "outputs": [],
   "source": [
    "# Drift:\n",
    "drift = (r-(sigma**2)/2) * dt"
   ]
  },
  {
   "cell_type": "code",
   "execution_count": 20,
   "metadata": {},
   "outputs": [],
   "source": [
    "# Time:\n",
    "a = sigma * np.sqrt(dt)"
   ]
  },
  {
   "cell_type": "code",
   "execution_count": 21,
   "metadata": {},
   "outputs": [
    {
     "name": "stdout",
     "output_type": "stream",
     "text": [
      "[[-6.74312192e-02 -3.43892628e-01 -1.69061136e+00  9.67148798e-01\n",
      "  -4.00918258e-02 -1.04829524e+00  7.96421786e-02 -1.28925555e+00\n",
      "  -1.54456507e+00 -2.70125505e-01 -5.61108555e-01 -5.03677348e-01\n",
      "   3.56090012e-01  5.10415375e-01  5.90981535e-01  1.02727485e+00\n",
      "  -8.22120128e-01  1.75259177e-01 -5.10821637e-01  1.27803654e-01\n",
      "   6.91000382e-01 -1.05484710e-01 -1.55153210e-02  7.91593728e-01\n",
      "  -1.91421683e+00  8.64733899e-01 -1.08947033e+00  3.96925217e-01\n",
      "  -1.26502686e+00  6.08674466e-01]\n",
      " [-1.06098354e+00  7.53675316e-02 -6.89153863e-01  5.90547647e-01\n",
      "  -1.60520879e+00 -1.90901975e-01 -6.69867499e-01 -9.30113392e-01\n",
      "   6.28891650e-01 -4.01132701e-01  8.34770795e-01 -5.32992761e-01\n",
      "   1.94233873e+00  6.06715702e-01  1.08395398e-01  1.03003241e+00\n",
      "   5.88096620e-01  1.08436348e+00 -3.46614255e-01 -1.23747384e+00\n",
      "   1.89056282e-01  3.41193643e-01  6.91654807e-01 -5.49314328e-01\n",
      "  -1.38932411e+00 -3.63767575e-01 -3.24310597e-02 -1.18050064e+00\n",
      "   3.84910040e-01 -1.23637612e+00]\n",
      " [-2.45543282e-01  1.89380244e+00 -1.95894621e+00  4.74900129e-01\n",
      "  -7.47227519e-01  2.19531685e+00 -9.04035667e-01  7.32176424e-01\n",
      "   1.54380416e-01  1.03667154e-02 -1.01513156e+00  3.21125305e-03\n",
      "   4.07259118e-02 -1.74394396e+00  4.10931181e-01 -1.41456376e+00\n",
      "  -1.40091240e+00  1.18108397e+00  8.39055263e-01  9.59537235e-01\n",
      "  -2.71128517e-01  1.18782315e+00  1.02687506e+00 -2.58494657e-01\n",
      "   7.00723494e-01  1.39383144e+00  6.51525999e-01 -4.58471871e-01\n",
      "   3.73606796e-01 -1.44010737e+00]\n",
      " [-8.15420874e-01 -9.91274325e-01  1.60885629e-01  1.24653874e+00\n",
      "   1.77575575e+00  9.22962988e-01 -1.21693214e+00 -5.65397011e-01\n",
      "   9.29341308e-01 -1.57773040e-01 -2.82717414e-01 -2.78960795e+00\n",
      "  -5.40256370e-01 -1.23248752e+00 -7.84538934e-01 -1.01351792e+00\n",
      "  -2.43882166e-01  6.99366946e-01 -8.60029629e-04 -5.39905083e-02\n",
      "  -1.16763059e-01 -1.00095739e-01 -1.12499353e+00  2.44039343e+00\n",
      "  -6.91408679e-01 -9.42583676e-02  1.30118836e+00 -1.26639028e+00\n",
      "  -6.09831405e-01 -2.77439514e+00]\n",
      " [ 6.70706659e-01  1.57327326e+00 -9.06616691e-01 -1.08900378e+00\n",
      "   2.61235650e+00  5.77137583e-01  1.92195338e+00 -6.06892774e-01\n",
      "   2.49761963e-01  9.54222342e-01 -1.80322936e+00 -5.76511505e-01\n",
      "  -1.68228140e+00  9.41978518e-01 -6.19901734e-01  2.97140384e-01\n",
      "   3.65172365e-01  3.75153180e-01  1.00257796e+00  7.67497815e-01\n",
      "   2.50330532e+00 -7.38003240e-01 -9.39626171e-02  1.11826183e+00\n",
      "   1.30420308e+00  2.16293089e-01 -2.73026602e+00 -6.47992339e-01\n",
      "  -5.12012165e-01  7.00134267e-01]]\n"
     ]
    }
   ],
   "source": [
    "# Random variable: Creating random variables for each day of stock.\n",
    "\n",
    "# Using standard normal distribution with mean=0, variance=1, (Nsimulation for Nsteps) \n",
    "x = np.random.normal(0,1,(simulations, steps))      \n",
    "print(x)"
   ]
  },
  {
   "cell_type": "markdown",
   "metadata": {},
   "source": [
    "Above we can see that for each of the 5 arrays (simulations), there are 30 elements (steps). Each element represents one day."
   ]
  },
  {
   "cell_type": "code",
   "execution_count": 22,
   "metadata": {},
   "outputs": [
    {
     "data": {
      "text/plain": [
       "array([[385.,   0.,   0.,   0.,   0.,   0.,   0.,   0.,   0.,   0.,   0.,\n",
       "          0.,   0.,   0.,   0.,   0.,   0.,   0.,   0.,   0.,   0.,   0.,\n",
       "          0.,   0.,   0.,   0.,   0.,   0.,   0.,   0.],\n",
       "       [385.,   0.,   0.,   0.,   0.,   0.,   0.,   0.,   0.,   0.,   0.,\n",
       "          0.,   0.,   0.,   0.,   0.,   0.,   0.,   0.,   0.,   0.,   0.,\n",
       "          0.,   0.,   0.,   0.,   0.,   0.,   0.,   0.],\n",
       "       [385.,   0.,   0.,   0.,   0.,   0.,   0.,   0.,   0.,   0.,   0.,\n",
       "          0.,   0.,   0.,   0.,   0.,   0.,   0.,   0.,   0.,   0.,   0.,\n",
       "          0.,   0.,   0.,   0.,   0.,   0.,   0.,   0.],\n",
       "       [385.,   0.,   0.,   0.,   0.,   0.,   0.,   0.,   0.,   0.,   0.,\n",
       "          0.,   0.,   0.,   0.,   0.,   0.,   0.,   0.,   0.,   0.,   0.,\n",
       "          0.,   0.,   0.,   0.,   0.,   0.,   0.,   0.],\n",
       "       [385.,   0.,   0.,   0.,   0.,   0.,   0.,   0.,   0.,   0.,   0.,\n",
       "          0.,   0.,   0.,   0.,   0.,   0.,   0.,   0.,   0.,   0.,   0.,\n",
       "          0.,   0.,   0.,   0.,   0.,   0.,   0.,   0.]])"
      ]
     },
     "execution_count": 22,
     "metadata": {},
     "output_type": "execute_result"
    }
   ],
   "source": [
    "# Matrix of stock price values\n",
    "\n",
    "Smat = np.zeros((simulations, steps))       # Matrix initially loaded with zero values\n",
    "Smat[:,0]+= S                               # put 385 (Spot price) on the first element of each of the 5 arrays\n",
    "Smat"
   ]
  },
  {
   "cell_type": "markdown",
   "metadata": {},
   "source": [
    "Above we can see that the each of the 5 arrays contain a value of 385 (Spot price) at the 1st element, with 0's afterwards. These 0's will be exchanged for a value based on the random variables generated prevoiusly."
   ]
  },
  {
   "cell_type": "code",
   "execution_count": 23,
   "metadata": {},
   "outputs": [
    {
     "data": {
      "text/plain": [
       "array([[385.        , 383.98734983, 378.92960608, 381.86252776,\n",
       "        381.77212201, 378.65765924, 378.92580888, 375.1207289 ,\n",
       "        370.60657186, 369.84697318, 368.24254249, 366.81124552,\n",
       "        367.8725118 , 369.3863421 , 371.14224588, 374.19236299,\n",
       "        371.8026222 , 372.34671182, 370.87855654, 371.2822532 ,\n",
       "        373.34167024, 373.06075474, 373.04476116, 375.41178859,\n",
       "        369.81399093, 372.37534185, 369.21757145, 370.40511928,\n",
       "        366.75570472, 368.55054776],\n",
       "       [385.        , 385.25964738, 383.20102661, 385.02128141,\n",
       "        380.2060213 , 379.66398731, 377.69273469, 374.96101653,\n",
       "        376.8561229 , 375.69518476, 378.20784838, 376.65069054,\n",
       "        382.49766299, 384.36360447, 384.72306284, 387.89322887,\n",
       "        389.72823549, 393.10812034, 392.06572468, 388.28729958,\n",
       "        388.89784467, 389.97717553, 392.14231375, 390.47749794,\n",
       "        386.25134222, 385.1749964 , 385.10708253, 381.56719954,\n",
       "        382.7581821 , 379.07273898],\n",
       "       [385.        , 390.82688993, 384.8633907 , 386.33886867,\n",
       "        384.09844943, 390.84036303, 388.09339464, 390.3728604 ,\n",
       "        390.87973021, 390.94279736, 387.85499274, 387.89567234,\n",
       "        388.0511968 , 382.77882324, 384.05242678, 379.82016595,\n",
       "        375.67500546, 379.22229348, 381.77145167, 384.70326554,\n",
       "        383.911736  , 387.55740519, 390.74119265, 389.97611072,\n",
       "        392.16930202, 396.5373856 , 398.61272072, 397.2050239 ,\n",
       "        398.40928451, 393.93941014],\n",
       "       [385.        , 382.03103679, 382.54670918, 386.35835814,\n",
       "        391.8406868 , 394.73590359, 390.99510933, 389.28576421,\n",
       "        392.18183898, 391.72510873, 390.88338971, 382.40459052,\n",
       "        380.80832952, 377.15323193, 374.85571408, 371.89970573,\n",
       "        371.21431099, 373.29799216, 373.32515287, 373.1958419 ,\n",
       "        372.88185388, 372.61712706, 369.35377178, 376.5643078 ,\n",
       "        374.54548697, 374.2968173 , 378.18929718, 374.4591609 ,\n",
       "        372.69142572, 364.65100066],\n",
       "       [385.        , 389.83976379, 387.09194517, 383.81078972,\n",
       "        391.83482368, 393.65443787, 399.70107741, 397.82340458,\n",
       "        398.639831  , 401.68434109, 396.04144348, 394.27546062,\n",
       "        389.10777777, 392.04161533, 390.15987663, 391.10674778,\n",
       "        392.26641458, 393.46050263, 396.61674504, 399.05746695,\n",
       "        407.04987521, 404.71880437, 404.45104568, 408.06773737,\n",
       "        412.32122338, 413.05831409, 404.28775345, 402.2580724 ,\n",
       "        400.66821372, 402.91966332]])"
      ]
     },
     "execution_count": 23,
     "metadata": {},
     "output_type": "execute_result"
    }
   ],
   "source": [
    "# Brownian Motion: (from the 2nd element onwards, we have the Brownian motion values)\n",
    "# Each simulation represents a different Brownian Motion path.\n",
    "\n",
    "for i in range(1, Nsteps):\n",
    "    Smat[:,i] += Smat[:,i-1] * np.exp(drift + a*x[:,i])\n",
    "Smat"
   ]
  },
  {
   "cell_type": "markdown",
   "metadata": {},
   "source": [
    "Above we can see that we have 5 different Brownian Motion paths (simulations) for the stock price."
   ]
  },
  {
   "cell_type": "markdown",
   "metadata": {},
   "source": [
    "### Calulate Payoffs for CALL and PUT:"
   ]
  },
  {
   "cell_type": "code",
   "execution_count": 24,
   "metadata": {},
   "outputs": [
    {
     "data": {
      "text/plain": [
       "array([18.55054776, 29.07273898, 43.93941014, 14.65100066, 52.91966332])"
      ]
     },
     "execution_count": 24,
     "metadata": {},
     "output_type": "execute_result"
    }
   ],
   "source": [
    "# CALL payoff values:\n",
    "\n",
    "c = (Smat[:,-1]) - K        # Call = 'last value of Smat' subtract 'Strike Price'\n",
    "\n",
    "for i in range(len(c)):\n",
    "    if c[i] < 0:\n",
    "        c[i] = 0            # where values are less than 1, make these values equal zero\n",
    "    else:\n",
    "        c[i] = c[i]         # otherwise take value as it is                \n",
    "c"
   ]
  },
  {
   "cell_type": "code",
   "execution_count": 25,
   "metadata": {},
   "outputs": [
    {
     "data": {
      "text/plain": [
       "array([0., 0., 0., 0., 0.])"
      ]
     },
     "execution_count": 25,
     "metadata": {},
     "output_type": "execute_result"
    }
   ],
   "source": [
    "# PUT payoff values:\n",
    "\n",
    "p = K - (Smat[:,-1])        # Put = 'Strike Price' subtract the 'Spot price' \n",
    "for i in range(len(p)):\n",
    "    if p[i] < 0:\n",
    "        p[i] = 0            # where values are less than 1, make all values equal zero\n",
    "    else:\n",
    "        p[i] = p[i]         # otherwise take value as it is                \n",
    "p"
   ]
  },
  {
   "cell_type": "code",
   "execution_count": 26,
   "metadata": {},
   "outputs": [
    {
     "name": "stdout",
     "output_type": "stream",
     "text": [
      "Call payoff = 31.82667216994372\n",
      "Put payoff = 0.0\n"
     ]
    }
   ],
   "source": [
    "# Take the average of payoff simulations:\n",
    "\n",
    "call_payoff = np.mean(c)\n",
    "print('Call payoff =', call_payoff)\n",
    "\n",
    "put_payoff = np.mean(p)\n",
    "print('Put payoff =', put_payoff)"
   ]
  },
  {
   "cell_type": "markdown",
   "metadata": {},
   "source": [
    "### Discount price back to present day:"
   ]
  },
  {
   "cell_type": "code",
   "execution_count": 27,
   "metadata": {},
   "outputs": [],
   "source": [
    "call = call_payoff*np.exp(-r*T)\n",
    "put = put_payoff*np.exp(-r*T)"
   ]
  },
  {
   "cell_type": "code",
   "execution_count": 28,
   "metadata": {},
   "outputs": [
    {
     "name": "stdout",
     "output_type": "stream",
     "text": [
      "Call payoff (Discounted to present day) = 31.721182827543352\n",
      "Put payoff (Discounted to present day) = 0.0\n"
     ]
    }
   ],
   "source": [
    "print('Call payoff (Discounted to present day) =', call)\n",
    "print('Put payoff (Discounted to present day) =', put)"
   ]
  },
  {
   "cell_type": "markdown",
   "metadata": {},
   "source": [
    "We can see that the call payoff has value of 31.72, whereas the put payoff has a value of 0.0. This is because for these given spot and strike prices they only work in favor of a call option. Hence a Put option at these prices would not be executed. "
   ]
  },
  {
   "cell_type": "markdown",
   "metadata": {},
   "source": [
    "## Black Scholes Method:"
   ]
  },
  {
   "cell_type": "code",
   "execution_count": 7,
   "metadata": {},
   "outputs": [],
   "source": [
    "# Black Scholes d1 & d2:\n",
    "\n",
    "d1 = (np.log(S/K) + (r + sigma**2/2)*T) / sigma*np.sqrt(T)\n",
    "d2 = (np.log(S/K) + (r - sigma**2/2)*T) / sigma*np.sqrt(T)"
   ]
  },
  {
   "cell_type": "code",
   "execution_count": 12,
   "metadata": {},
   "outputs": [
    {
     "data": {
      "text/plain": [
       "21.31220748950824"
      ]
     },
     "execution_count": 12,
     "metadata": {},
     "output_type": "execute_result"
    }
   ],
   "source": [
    "# Black Scholes Call option price:\n",
    "\n",
    "call_bs = (norm.cdf(d1,0,1) * S) - (norm.cdf(d2,0,1) * K*np.exp(-r*T))\n",
    "call_bs"
   ]
  },
  {
   "cell_type": "code",
   "execution_count": 11,
   "metadata": {},
   "outputs": [
    {
     "name": "stdout",
     "output_type": "stream",
     "text": [
      "Call payoff (Discounted to present day) = 21.24156828660434\n"
     ]
    }
   ],
   "source": [
    "call_discounted = call_bs*np.exp(-r*T)\n",
    "print('Call payoff (Discounted to present day) =', call_discounted)"
   ]
  },
  {
   "cell_type": "markdown",
   "metadata": {},
   "source": [
    "Using the same variables, the values have have been entered into the Black Scholes model. The call payoff has a value of 21.24."
   ]
  }
 ],
 "metadata": {
  "kernelspec": {
   "display_name": "Python 3",
   "language": "python",
   "name": "python3"
  },
  "language_info": {
   "codemirror_mode": {
    "name": "ipython",
    "version": 3
   },
   "file_extension": ".py",
   "mimetype": "text/x-python",
   "name": "python",
   "nbconvert_exporter": "python",
   "pygments_lexer": "ipython3",
   "version": "3.8.3"
  }
 },
 "nbformat": 4,
 "nbformat_minor": 4
}
